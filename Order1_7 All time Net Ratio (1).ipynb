{
 "cells": [
  {
   "cell_type": "code",
   "execution_count": 1,
   "metadata": {},
   "outputs": [],
   "source": [
    "import connectorx as cx\n",
    "import pandas as pd\n",
    "import numpy as np\n",
    "import os\n",
    "import duckdb\n",
    "from datetime import datetime\n",
    "import glob\n",
    "import multiprocessing as mp\n",
    "from functools import partial\n",
    "import time\n",
    "\n",
    "from tqdm import tqdm\n"
   ]
  },
  {
   "cell_type": "code",
   "execution_count": 2,
   "metadata": {},
   "outputs": [],
   "source": [
    "def calculate_daily_factor(trading_date):\n",
    "    order_pth = f\"/data/cephfs/order/{pd.to_datetime(trading_date).strftime('%Y%m%d')}.parquet\"\n",
    "\n",
    "    # 检查文件是否存在\n",
    "    if not os.path.exists(order_pth):\n",
    "        raise FileNotFoundError(f\"数据文件不存在: {order_pth}\")\n",
    "\n",
    "    # 定义六个时间段的查询\n",
    "    time_intervals = {\n",
    "        'early_930_1000': \"order_time >= 93000000 AND order_time < 100000000\",\n",
    "        'early_1000_1030': \"order_time >= 100000000 AND order_time < 103000000\",\n",
    "        'early_930_1030': \"order_time >= 93000000 AND order_time < 103000000\"\n",
    "    }\n",
    "\n",
    "    result_df = None\n",
    "    \n",
    "    # 使用SQL完成所有计算\n",
    "    for interval_name, time_condition in time_intervals.items():\n",
    "        conn = duckdb.connect(database=':memory:')\n",
    "\n",
    "        # 修复SQL查询 - 添加了WITH关键字和最终的查询\n",
    "        query = f\"\"\"\n",
    "        WITH early_orders AS (\n",
    "            SELECT \n",
    "                security_code,\n",
    "                order_side, \n",
    "                order_volume\n",
    "            FROM '{order_pth}'\n",
    "            WHERE order_type = 'A'\n",
    "                AND {time_condition}\n",
    "                AND order_details = 'L'\n",
    "        ),\n",
    "        \n",
    "        -- 计算所有订单的统计\n",
    "        all_order_stats AS (\n",
    "            SELECT \n",
    "                security_code,\n",
    "                SUM(CASE WHEN order_side = 1 THEN order_volume ELSE 0 END) AS all_buy_volume,\n",
    "                SUM(CASE WHEN order_side = -1 THEN order_volume ELSE 0 END) AS all_sell_volume,\n",
    "                AVG(CASE WHEN order_side = 1 THEN order_volume ELSE NULL END) AS avg_all_buy_volume,\n",
    "                AVG(CASE WHEN order_side = -1 THEN order_volume ELSE NULL END) AS avg_all_sell_volume\n",
    "            FROM early_orders\n",
    "            GROUP BY security_code\n",
    "        )\n",
    "        \n",
    "        -- 最终计算各种比率\n",
    "        SELECT \n",
    "            security_code,\n",
    "            CASE \n",
    "                WHEN (all_buy_volume + all_sell_volume) <= 1e-10 THEN NULL\n",
    "                ELSE \n",
    "                    (all_buy_volume - all_sell_volume) / (all_buy_volume + all_sell_volume)\n",
    "            END AS {interval_name}_net_order_volume_ratio,\n",
    "            LN((all_buy_volume + 1e-10)/(all_sell_volume + 1e-10)) AS {interval_name}_sum_order_volume_ratio,\n",
    "            LN((avg_all_buy_volume + 1e-10)/(avg_all_sell_volume + 1e-10)) AS {interval_name}_avg_order_volume_ratio\n",
    "        FROM all_order_stats \n",
    "        \"\"\"\n",
    "        \n",
    "        try:\n",
    "            # 执行SQL查询\n",
    "            current_df = conn.execute(query).fetchdf()\n",
    "            \n",
    "            # 处理极端值\n",
    "            for col in current_df.columns:\n",
    "                if '_order_volume_ratio' in col:\n",
    "                    current_df[col] = current_df[col].replace([np.inf, -np.inf], np.nan)\n",
    "            \n",
    "            if result_df is None:\n",
    "                result_df = current_df\n",
    "            else:\n",
    "                result_df = result_df.merge(\n",
    "                    current_df,\n",
    "                    on='security_code',\n",
    "                    how='outer'\n",
    "                )\n",
    "        \n",
    "        except Exception as e:\n",
    "            print(f\"SQL查询执行出错 ({interval_name}): {str(e)}\")\n",
    "            print(f\"查询内容: {query}\")\n",
    "            raise\n",
    "        finally:\n",
    "            conn.close()\n",
    "    \n",
    "    # 如果所有时间段都没有数据，返回空DataFrame\n",
    "    if result_df is None:\n",
    "        result_df = pd.DataFrame(columns=['security_code'])\n",
    "    \n",
    "    return result_df\n"
   ]
  },
  {
   "cell_type": "code",
   "execution_count": 3,
   "metadata": {},
   "outputs": [],
   "source": [
    "def process_single_date(trading_date, factor_name):\n",
    "    \n",
    "    \"\"\"处理单个交易日的函数\"\"\"\n",
    "   \n",
    "    date_str = trading_date.strftime('%Y%m%d')\n",
    "    output_dir = f\"./factors/{factor_name}\"\n",
    "    file_path = f\"{output_dir}/{date_str}.parquet\"\n",
    "    \n",
    "    # 如果文件已存在，跳过处理\n",
    "    if os.path.exists(file_path):\n",
    "        print(f\"文件已存在，跳过: {file_path}\")\n",
    "        return date_str, True, \"已存在\"\n",
    "    \n",
    "    # 检查原始数据文件是否存在\n",
    "    data_file = f\"/data/cephfs/order/{date_str}.parquet\"\n",
    "    if not os.path.exists(data_file):\n",
    "        print(f\"跳过日期 {date_str}: 原始数据文件不存在\")\n",
    "        return date_str, False, \"数据文件不存在\"\n",
    "    \n",
    "    try:\n",
    "        daily_factor_df = calculate_daily_factor(trading_date)\n",
    "        \n",
    "        daily_factor_df['date'] = date_str\n",
    "\n",
    "        daily_factor_df.to_parquet(file_path, index=False)\n",
    "        print(f\"已生成因子文件: {file_path}\")\n",
    "        return date_str, True, \"成功\"\n",
    "        \n",
    "    except Exception as e:\n",
    "        error_msg = str(e)\n",
    "        print(f\"处理日期 {date_str} 时出错: {error_msg}\")\n",
    "        return date_str, False, error_msg\n",
    "\n",
    "\n",
    "def derive_daily_factor(start_date, end_date, factor_name, num_processes=10):\n",
    "    start_time = time.time()\n",
    "    \n",
    "    trading_dates = pd.date_range(start=start_date, end=end_date, freq='D')\n",
    "    \n",
    "    # 创建输出目录\n",
    "    output_dir = f\"./factors/{factor_name}\"\n",
    "    os.makedirs(output_dir, exist_ok=True)\n",
    "    \n",
    "    # 创建进程池\n",
    "    pool = mp.Pool(processes=num_processes)\n",
    "    \n",
    "    # 创建带有固定参数的处理函数\n",
    "    process_date_with_args = partial(process_single_date, factor_name=factor_name)\n",
    "    \n",
    "    # 提交所有任务到进程池并获取结果\n",
    "    print(f\"开始使用 {num_processes} 个进程并行处理 {len(trading_dates)} 个交易日...\")\n",
    "    results = pool.map(process_date_with_args, trading_dates)\n",
    "    \n",
    "    # 关闭进程池\n",
    "    pool.close()\n",
    "    pool.join()\n",
    "    \n",
    "    # 分析处理结果\n",
    "    processed_dates = [date_str for date_str, success, _ in results if success]\n",
    "    skipped_dates = [date_str for date_str, success, _ in results if not success]\n",
    "    \n",
    "    # 打印处理结果摘要\n",
    "    print(f\"\\n处理完成:\")\n",
    "    print(f\"成功处理 {len(processed_dates)} 个日期\")\n",
    "    print(f\"跳过 {len(skipped_dates)} 个日期\")\n",
    "\n",
    "    return output_dir"
   ]
  },
  {
   "cell_type": "code",
   "execution_count": 4,
   "metadata": {},
   "outputs": [],
   "source": [
    "def calculate_rolling_20d_avg(factor_names, factor_dir, start_date=None, end_date=None, min_window=5):\n",
    "    \n",
    "    if not isinstance(factor_names, list):\n",
    "        factor_names = [factor_names]\n",
    "    \n",
    "    updated_factor_names = []\n",
    "    time_intervals = ['early_930_1000', 'early_1000_1030', 'early_930_1030']\n",
    "    \n",
    "    for base_name in factor_names:\n",
    "        for interval in time_intervals:\n",
    "            updated_factor_names.append(f\"{interval}_{base_name}\")\n",
    "    \n",
    "    # 读取所有Parquet文件\n",
    "    parquet_files = glob.glob(os.path.join(factor_dir, \"*.parquet\"))\n",
    "    all_factor_data = pd.concat([pd.read_parquet(f) for f in parquet_files], ignore_index=True)\n",
    "\n",
    "    print(f\"在目录 {factor_dir} 中找到 {len(parquet_files)} 个Parquet文件\")\n",
    "    \n",
    "    \n",
    "    # 检查是否所有需要的因子列都存在\n",
    "    missing_factors = [f for f in updated_factor_names if f not in all_factor_data.columns]\n",
    "    if missing_factors:\n",
    "        raise ValueError(f\"在Parquet文件中未找到以下因子列: {', '.join(missing_factors)}\")\n",
    "\n",
    "    \n",
    "    all_factor_data['date'] = pd.to_datetime(all_factor_data['date'])\n",
    "\n",
    "    all_factor_data = all_factor_data.sort_values(['date', 'security_code'])\n",
    "    \n",
    "    # 筛选日期范围\n",
    "    if start_date:\n",
    "        start_date = pd.to_datetime(start_date)\n",
    "        all_factor_data = all_factor_data[all_factor_data['date'] >= start_date]\n",
    "    if end_date:\n",
    "        end_date = pd.to_datetime(end_date)\n",
    "        all_factor_data = all_factor_data[all_factor_data['date'] <= end_date]\n",
    "\n",
    "    # 获取所有个股代码\n",
    "    all_securities = all_factor_data['security_code'].unique()\n",
    "\n",
    "    result_df = all_factor_data[['date', 'security_code']].copy()\n",
    "\n",
    "    # 为每个因子计算滚动平均\n",
    "    for factor_name in updated_factor_names:\n",
    "        print(f\"\\n处理因子: {factor_name}\")\n",
    "        \n",
    "        #转置成宽表\n",
    "        pivot_data = all_factor_data.pivot(index='date', columns='security_code', values=factor_name)\n",
    "\n",
    "        # 对宽表直接应用rolling\n",
    "        rolling_avg = pivot_data.rolling(window=20, min_periods=min_window).mean()\n",
    "\n",
    "        # 将结果转换回长格式\n",
    "        factor_df = rolling_avg.stack().reset_index()\n",
    "        factor_df.columns = ['date', 'security_code', factor_name]\n",
    "\n",
    "        # 计算每日因子覆盖率\n",
    "        # 计算每个日期非NaN的因子值数量\n",
    "        non_nan_counts = factor_df.dropna(subset=[factor_name]).groupby('date').size()\n",
    "\n",
    "        # 计算覆盖率\n",
    "        coverage = non_nan_counts / len(all_securities)\n",
    "        print(f\"\\n{factor_name}因子覆盖率统计: 平均={coverage.mean():.2f}, 最小={coverage.min():.2f}\")\n",
    "\n",
    "        result_df = pd.merge(\n",
    "            result_df, \n",
    "            factor_df,\n",
    "            on=['date', 'security_code'],\n",
    "            how='left'\n",
    "        )\n",
    "    \n",
    "    return result_df"
   ]
  },
  {
   "cell_type": "code",
   "execution_count": 6,
   "metadata": {},
   "outputs": [
    {
     "name": "stdout",
     "output_type": "stream",
     "text": [
      "文件已存在，跳过: ./factors/Improved_Early_Order_Size_Ratio_3/20250520.parquet文件已存在，跳过: ./factors/Improved_Early_Order_Size_Ratio_3/20250526.parquet文件已存在，跳过: ./factors/Improved_Early_Order_Size_Ratio_3/20250522.parquet文件已存在，跳过: ./factors/Improved_Early_Order_Size_Ratio_3/20250528.parquet跳过日期 20250524: 原始数据文件不存在文件已存在，跳过: ./factors/Improved_Early_Order_Size_Ratio_3/20250530.parquet跳过日期 20250601: 原始数据文件不存在跳过日期 20250607: 原始数据文件不存在\n",
      "\n",
      "\n",
      "\n",
      "\n",
      "\n",
      "\n",
      "文件已存在，跳过: ./factors/Improved_Early_Order_Size_Ratio_3/20250523.parquet文件已存在，跳过: ./factors/Improved_Early_Order_Size_Ratio_3/20250521.parquet\n",
      "文件已存在，跳过: ./factors/Improved_Early_Order_Size_Ratio_3/20250527.parquet文件已存在，跳过: ./factors/Improved_Early_Order_Size_Ratio_3/20250529.parquet跳过日期 20250531: 原始数据文件不存在跳过日期 20250525: 原始数据文件不存在跳过日期 20250602: 原始数据文件不存在\n",
      "\n",
      "\n",
      "\n",
      "跳过日期 20250608: 原始数据文件不存在\n",
      "\n",
      "\n",
      "\n",
      "跳过日期 20250615: 原始数据文件不存在\n",
      "跳过日期 20250621: 原始数据文件不存在\n",
      "跳过日期 20250622: 原始数据文件不存在\n"
     ]
    },
    {
     "name": "stdout",
     "output_type": "stream",
     "text": [
      "开始使用 10 个进程并行处理 42 个交易日...\n"
     ]
    },
    {
     "data": {
      "application/vnd.jupyter.widget-view+json": {
       "model_id": "6777a35bfdbc4f3090cb9892e04faa31",
       "version_major": 2,
       "version_minor": 0
      },
      "text/plain": [
       "FloatProgress(value=0.0, layout=Layout(width='auto'), style=ProgressStyle(bar_color='black'))"
      ]
     },
     "metadata": {},
     "output_type": "display_data"
    },
    {
     "data": {
      "application/vnd.jupyter.widget-view+json": {
       "model_id": "bbef04d962264f649b3484015e4a1591",
       "version_major": 2,
       "version_minor": 0
      },
      "text/plain": [
       "FloatProgress(value=0.0, layout=Layout(width='auto'), style=ProgressStyle(bar_color='black'))"
      ]
     },
     "metadata": {},
     "output_type": "display_data"
    },
    {
     "data": {
      "application/vnd.jupyter.widget-view+json": {
       "model_id": "537d863bfd744187ab6be78c114c75bd",
       "version_major": 2,
       "version_minor": 0
      },
      "text/plain": [
       "FloatProgress(value=0.0, layout=Layout(width='auto'), style=ProgressStyle(bar_color='black'))"
      ]
     },
     "metadata": {},
     "output_type": "display_data"
    },
    {
     "data": {
      "application/vnd.jupyter.widget-view+json": {
       "model_id": "bf72e29286c04e9fa1bf1f433aaa56e1",
       "version_major": 2,
       "version_minor": 0
      },
      "text/plain": [
       "FloatProgress(value=0.0, layout=Layout(width='auto'), style=ProgressStyle(bar_color='black'))"
      ]
     },
     "metadata": {},
     "output_type": "display_data"
    },
    {
     "data": {
      "application/vnd.jupyter.widget-view+json": {
       "model_id": "84e1504cc9894d318a68be965b09fcfa",
       "version_major": 2,
       "version_minor": 0
      },
      "text/plain": [
       "FloatProgress(value=0.0, layout=Layout(width='auto'), style=ProgressStyle(bar_color='black'))"
      ]
     },
     "metadata": {},
     "output_type": "display_data"
    },
    {
     "data": {
      "application/vnd.jupyter.widget-view+json": {
       "model_id": "84e5417709b8418590600ca0460c7af9",
       "version_major": 2,
       "version_minor": 0
      },
      "text/plain": [
       "FloatProgress(value=0.0, layout=Layout(width='auto'), style=ProgressStyle(bar_color='black'))"
      ]
     },
     "metadata": {},
     "output_type": "display_data"
    },
    {
     "data": {
      "application/vnd.jupyter.widget-view+json": {
       "model_id": "dd166f151e3140e49171a36351c3872a",
       "version_major": 2,
       "version_minor": 0
      },
      "text/plain": [
       "FloatProgress(value=0.0, layout=Layout(width='auto'), style=ProgressStyle(bar_color='black'))"
      ]
     },
     "metadata": {},
     "output_type": "display_data"
    },
    {
     "data": {
      "application/vnd.jupyter.widget-view+json": {
       "model_id": "4d1da842f76148da9598ff5b9b7d98cd",
       "version_major": 2,
       "version_minor": 0
      },
      "text/plain": [
       "FloatProgress(value=0.0, layout=Layout(width='auto'), style=ProgressStyle(bar_color='black'))"
      ]
     },
     "metadata": {},
     "output_type": "display_data"
    },
    {
     "data": {
      "application/vnd.jupyter.widget-view+json": {
       "model_id": "c2f780514fd34f02900424120036de14",
       "version_major": 2,
       "version_minor": 0
      },
      "text/plain": [
       "FloatProgress(value=0.0, layout=Layout(width='auto'), style=ProgressStyle(bar_color='black'))"
      ]
     },
     "metadata": {},
     "output_type": "display_data"
    },
    {
     "data": {
      "application/vnd.jupyter.widget-view+json": {
       "model_id": "14993fcf1bda4ea49b673ae8982dcac9",
       "version_major": 2,
       "version_minor": 0
      },
      "text/plain": [
       "FloatProgress(value=0.0, layout=Layout(width='auto'), style=ProgressStyle(bar_color='black'))"
      ]
     },
     "metadata": {},
     "output_type": "display_data"
    },
    {
     "data": {
      "application/vnd.jupyter.widget-view+json": {
       "model_id": "10beb31b8da248d18e928da32c531c3f",
       "version_major": 2,
       "version_minor": 0
      },
      "text/plain": [
       "FloatProgress(value=0.0, layout=Layout(width='auto'), style=ProgressStyle(bar_color='black'))"
      ]
     },
     "metadata": {},
     "output_type": "display_data"
    },
    {
     "data": {
      "application/vnd.jupyter.widget-view+json": {
       "model_id": "8cb1dde32a36454e92dd8dac87987ba4",
       "version_major": 2,
       "version_minor": 0
      },
      "text/plain": [
       "FloatProgress(value=0.0, layout=Layout(width='auto'), style=ProgressStyle(bar_color='black'))"
      ]
     },
     "metadata": {},
     "output_type": "display_data"
    },
    {
     "data": {
      "application/vnd.jupyter.widget-view+json": {
       "model_id": "9cd63a648dd3466f95e9943378b49944",
       "version_major": 2,
       "version_minor": 0
      },
      "text/plain": [
       "FloatProgress(value=0.0, layout=Layout(width='auto'), style=ProgressStyle(bar_color='black'))"
      ]
     },
     "metadata": {},
     "output_type": "display_data"
    },
    {
     "data": {
      "application/vnd.jupyter.widget-view+json": {
       "model_id": "c51915028d0b4d068c70f60f0379d2eb",
       "version_major": 2,
       "version_minor": 0
      },
      "text/plain": [
       "FloatProgress(value=0.0, layout=Layout(width='auto'), style=ProgressStyle(bar_color='black'))"
      ]
     },
     "metadata": {},
     "output_type": "display_data"
    },
    {
     "data": {
      "application/vnd.jupyter.widget-view+json": {
       "model_id": "7e7740a12e2b41de8c1a7990710e12ff",
       "version_major": 2,
       "version_minor": 0
      },
      "text/plain": [
       "FloatProgress(value=0.0, layout=Layout(width='auto'), style=ProgressStyle(bar_color='black'))"
      ]
     },
     "metadata": {},
     "output_type": "display_data"
    },
    {
     "data": {
      "application/vnd.jupyter.widget-view+json": {
       "model_id": "38c5de63e5794aa1b31463a5458e2fdb",
       "version_major": 2,
       "version_minor": 0
      },
      "text/plain": [
       "FloatProgress(value=0.0, layout=Layout(width='auto'), style=ProgressStyle(bar_color='black'))"
      ]
     },
     "metadata": {},
     "output_type": "display_data"
    },
    {
     "data": {
      "application/vnd.jupyter.widget-view+json": {
       "model_id": "0045f579d1c64e5085db6273e91295ae",
       "version_major": 2,
       "version_minor": 0
      },
      "text/plain": [
       "FloatProgress(value=0.0, layout=Layout(width='auto'), style=ProgressStyle(bar_color='black'))"
      ]
     },
     "metadata": {},
     "output_type": "display_data"
    },
    {
     "name": "stdout",
     "output_type": "stream",
     "text": [
      "已生成因子文件: ./factors/Improved_Early_Order_Size_Ratio_3/20250617.parquet\n",
      "已生成因子文件: ./factors/Improved_Early_Order_Size_Ratio_3/20250603.parquet\n",
      "已生成因子文件: ./factors/Improved_Early_Order_Size_Ratio_3/20250623.parquet\n",
      "已生成因子文件: ./factors/Improved_Early_Order_Size_Ratio_3/20250605.parquet\n"
     ]
    },
    {
     "data": {
      "application/vnd.jupyter.widget-view+json": {
       "model_id": "7a1cfd2a6fed49c38a77b44d15a03c25",
       "version_major": 2,
       "version_minor": 0
      },
      "text/plain": [
       "FloatProgress(value=0.0, layout=Layout(width='auto'), style=ProgressStyle(bar_color='black'))"
      ]
     },
     "metadata": {},
     "output_type": "display_data"
    },
    {
     "data": {
      "application/vnd.jupyter.widget-view+json": {
       "model_id": "88055ef0fc6347a7b71c585bc92dcac3",
       "version_major": 2,
       "version_minor": 0
      },
      "text/plain": [
       "FloatProgress(value=0.0, layout=Layout(width='auto'), style=ProgressStyle(bar_color='black'))"
      ]
     },
     "metadata": {},
     "output_type": "display_data"
    },
    {
     "data": {
      "application/vnd.jupyter.widget-view+json": {
       "model_id": "f0e79a24cce04750994cbd05e02b303d",
       "version_major": 2,
       "version_minor": 0
      },
      "text/plain": [
       "FloatProgress(value=0.0, layout=Layout(width='auto'), style=ProgressStyle(bar_color='black'))"
      ]
     },
     "metadata": {},
     "output_type": "display_data"
    },
    {
     "data": {
      "application/vnd.jupyter.widget-view+json": {
       "model_id": "de6d3a5580f04d4482e60e381cc99c67",
       "version_major": 2,
       "version_minor": 0
      },
      "text/plain": [
       "FloatProgress(value=0.0, layout=Layout(width='auto'), style=ProgressStyle(bar_color='black'))"
      ]
     },
     "metadata": {},
     "output_type": "display_data"
    },
    {
     "name": "stdout",
     "output_type": "stream",
     "text": [
      "已生成因子文件: ./factors/Improved_Early_Order_Size_Ratio_3/20250616.parquet\n"
     ]
    },
    {
     "data": {
      "application/vnd.jupyter.widget-view+json": {
       "model_id": "f0ef118833354101bd920bd1c4dde1a9",
       "version_major": 2,
       "version_minor": 0
      },
      "text/plain": [
       "FloatProgress(value=0.0, layout=Layout(width='auto'), style=ProgressStyle(bar_color='black'))"
      ]
     },
     "metadata": {},
     "output_type": "display_data"
    },
    {
     "data": {
      "application/vnd.jupyter.widget-view+json": {
       "model_id": "24c8ee93206e4a568e4e364abd173bc9",
       "version_major": 2,
       "version_minor": 0
      },
      "text/plain": [
       "FloatProgress(value=0.0, layout=Layout(width='auto'), style=ProgressStyle(bar_color='black'))"
      ]
     },
     "metadata": {},
     "output_type": "display_data"
    },
    {
     "name": "stdout",
     "output_type": "stream",
     "text": [
      "已生成因子文件: ./factors/Improved_Early_Order_Size_Ratio_3/20250609.parquet\n"
     ]
    },
    {
     "data": {
      "application/vnd.jupyter.widget-view+json": {
       "model_id": "ea8200e4990b49c1b2781880857e2c89",
       "version_major": 2,
       "version_minor": 0
      },
      "text/plain": [
       "FloatProgress(value=0.0, layout=Layout(width='auto'), style=ProgressStyle(bar_color='black'))"
      ]
     },
     "metadata": {},
     "output_type": "display_data"
    },
    {
     "data": {
      "application/vnd.jupyter.widget-view+json": {
       "model_id": "28e7bc88de294981b9c22b17d6bef43e",
       "version_major": 2,
       "version_minor": 0
      },
      "text/plain": [
       "FloatProgress(value=0.0, layout=Layout(width='auto'), style=ProgressStyle(bar_color='black'))"
      ]
     },
     "metadata": {},
     "output_type": "display_data"
    },
    {
     "data": {
      "application/vnd.jupyter.widget-view+json": {
       "model_id": "c0f986217746469a86af2e169bc1d40d",
       "version_major": 2,
       "version_minor": 0
      },
      "text/plain": [
       "FloatProgress(value=0.0, layout=Layout(width='auto'), style=ProgressStyle(bar_color='black'))"
      ]
     },
     "metadata": {},
     "output_type": "display_data"
    },
    {
     "name": "stdout",
     "output_type": "stream",
     "text": [
      "已生成因子文件: ./factors/Improved_Early_Order_Size_Ratio_3/20250611.parquet\n"
     ]
    },
    {
     "data": {
      "application/vnd.jupyter.widget-view+json": {
       "model_id": "2fcaf196972b449e8ef0a322856dfa46",
       "version_major": 2,
       "version_minor": 0
      },
      "text/plain": [
       "FloatProgress(value=0.0, layout=Layout(width='auto'), style=ProgressStyle(bar_color='black'))"
      ]
     },
     "metadata": {},
     "output_type": "display_data"
    },
    {
     "name": "stdout",
     "output_type": "stream",
     "text": [
      "已生成因子文件: ./factors/Improved_Early_Order_Size_Ratio_3/20250619.parquet\n"
     ]
    },
    {
     "data": {
      "application/vnd.jupyter.widget-view+json": {
       "model_id": "42104070f871472c851d05550f8df89d",
       "version_major": 2,
       "version_minor": 0
      },
      "text/plain": [
       "FloatProgress(value=0.0, layout=Layout(width='auto'), style=ProgressStyle(bar_color='black'))"
      ]
     },
     "metadata": {},
     "output_type": "display_data"
    },
    {
     "name": "stdout",
     "output_type": "stream",
     "text": [
      "已生成因子文件: ./factors/Improved_Early_Order_Size_Ratio_3/20250613.parquet\n",
      "跳过日期 20250614: 原始数据文件不存在\n",
      "跳过日期 20250629: 原始数据文件不存在\n"
     ]
    },
    {
     "data": {
      "application/vnd.jupyter.widget-view+json": {
       "model_id": "ba3fcbaa0067477f8bc793c5d7005d90",
       "version_major": 2,
       "version_minor": 0
      },
      "text/plain": [
       "FloatProgress(value=0.0, layout=Layout(width='auto'), style=ProgressStyle(bar_color='black'))"
      ]
     },
     "metadata": {},
     "output_type": "display_data"
    },
    {
     "data": {
      "application/vnd.jupyter.widget-view+json": {
       "model_id": "724e339024b94a098635e2d92cbcfd6f",
       "version_major": 2,
       "version_minor": 0
      },
      "text/plain": [
       "FloatProgress(value=0.0, layout=Layout(width='auto'), style=ProgressStyle(bar_color='black'))"
      ]
     },
     "metadata": {},
     "output_type": "display_data"
    },
    {
     "data": {
      "application/vnd.jupyter.widget-view+json": {
       "model_id": "e1c83dc8686445f4935b7057fa64ed03",
       "version_major": 2,
       "version_minor": 0
      },
      "text/plain": [
       "FloatProgress(value=0.0, layout=Layout(width='auto'), style=ProgressStyle(bar_color='black'))"
      ]
     },
     "metadata": {},
     "output_type": "display_data"
    },
    {
     "name": "stdout",
     "output_type": "stream",
     "text": [
      "已生成因子文件: ./factors/Improved_Early_Order_Size_Ratio_3/20250625.parquet\n"
     ]
    },
    {
     "data": {
      "application/vnd.jupyter.widget-view+json": {
       "model_id": "971565a19c624c5e9411b087fa03bc77",
       "version_major": 2,
       "version_minor": 0
      },
      "text/plain": [
       "FloatProgress(value=0.0, layout=Layout(width='auto'), style=ProgressStyle(bar_color='black'))"
      ]
     },
     "metadata": {},
     "output_type": "display_data"
    },
    {
     "data": {
      "application/vnd.jupyter.widget-view+json": {
       "model_id": "284c6062ff0b43b0b6c732fe860f4dcd",
       "version_major": 2,
       "version_minor": 0
      },
      "text/plain": [
       "FloatProgress(value=0.0, layout=Layout(width='auto'), style=ProgressStyle(bar_color='black'))"
      ]
     },
     "metadata": {},
     "output_type": "display_data"
    },
    {
     "data": {
      "application/vnd.jupyter.widget-view+json": {
       "model_id": "c4f38f4a3cf84a049c5da7aa36dcfdab",
       "version_major": 2,
       "version_minor": 0
      },
      "text/plain": [
       "FloatProgress(value=0.0, layout=Layout(width='auto'), style=ProgressStyle(bar_color='black'))"
      ]
     },
     "metadata": {},
     "output_type": "display_data"
    },
    {
     "data": {
      "application/vnd.jupyter.widget-view+json": {
       "model_id": "460aba4b85ed40c38ae13723a67f69ac",
       "version_major": 2,
       "version_minor": 0
      },
      "text/plain": [
       "FloatProgress(value=0.0, layout=Layout(width='auto'), style=ProgressStyle(bar_color='black'))"
      ]
     },
     "metadata": {},
     "output_type": "display_data"
    },
    {
     "data": {
      "application/vnd.jupyter.widget-view+json": {
       "model_id": "2662ae3c2f04472984f1ab367eef2ea5",
       "version_major": 2,
       "version_minor": 0
      },
      "text/plain": [
       "FloatProgress(value=0.0, layout=Layout(width='auto'), style=ProgressStyle(bar_color='black'))"
      ]
     },
     "metadata": {},
     "output_type": "display_data"
    },
    {
     "data": {
      "application/vnd.jupyter.widget-view+json": {
       "model_id": "6f1979fb3c7a4b41a7cb9d4e1d831d7b",
       "version_major": 2,
       "version_minor": 0
      },
      "text/plain": [
       "FloatProgress(value=0.0, layout=Layout(width='auto'), style=ProgressStyle(bar_color='black'))"
      ]
     },
     "metadata": {},
     "output_type": "display_data"
    },
    {
     "data": {
      "application/vnd.jupyter.widget-view+json": {
       "model_id": "546fa1b062084eb3bb5a99688860a445",
       "version_major": 2,
       "version_minor": 0
      },
      "text/plain": [
       "FloatProgress(value=0.0, layout=Layout(width='auto'), style=ProgressStyle(bar_color='black'))"
      ]
     },
     "metadata": {},
     "output_type": "display_data"
    },
    {
     "data": {
      "application/vnd.jupyter.widget-view+json": {
       "model_id": "093b3f2828674e53a8721106fd9f9e0b",
       "version_major": 2,
       "version_minor": 0
      },
      "text/plain": [
       "FloatProgress(value=0.0, layout=Layout(width='auto'), style=ProgressStyle(bar_color='black'))"
      ]
     },
     "metadata": {},
     "output_type": "display_data"
    },
    {
     "data": {
      "application/vnd.jupyter.widget-view+json": {
       "model_id": "04ca0bd73f4a4a09881c5187edd32b7c",
       "version_major": 2,
       "version_minor": 0
      },
      "text/plain": [
       "FloatProgress(value=0.0, layout=Layout(width='auto'), style=ProgressStyle(bar_color='black'))"
      ]
     },
     "metadata": {},
     "output_type": "display_data"
    },
    {
     "data": {
      "application/vnd.jupyter.widget-view+json": {
       "model_id": "75dfcf9b9afd4b92b2ba8a6e11ae2a65",
       "version_major": 2,
       "version_minor": 0
      },
      "text/plain": [
       "FloatProgress(value=0.0, layout=Layout(width='auto'), style=ProgressStyle(bar_color='black'))"
      ]
     },
     "metadata": {},
     "output_type": "display_data"
    },
    {
     "data": {
      "application/vnd.jupyter.widget-view+json": {
       "model_id": "3814e59231fd41dea7e27e01a231fb32",
       "version_major": 2,
       "version_minor": 0
      },
      "text/plain": [
       "FloatProgress(value=0.0, layout=Layout(width='auto'), style=ProgressStyle(bar_color='black'))"
      ]
     },
     "metadata": {},
     "output_type": "display_data"
    },
    {
     "data": {
      "application/vnd.jupyter.widget-view+json": {
       "model_id": "8ab056ccd73449c8a62d491a2ab06148",
       "version_major": 2,
       "version_minor": 0
      },
      "text/plain": [
       "FloatProgress(value=0.0, layout=Layout(width='auto'), style=ProgressStyle(bar_color='black'))"
      ]
     },
     "metadata": {},
     "output_type": "display_data"
    },
    {
     "name": "stdout",
     "output_type": "stream",
     "text": [
      "已生成因子文件: ./factors/Improved_Early_Order_Size_Ratio_3/20250624.parquet\n"
     ]
    },
    {
     "data": {
      "application/vnd.jupyter.widget-view+json": {
       "model_id": "f942cc0b8a034d578a33217dff6cbc4d",
       "version_major": 2,
       "version_minor": 0
      },
      "text/plain": [
       "FloatProgress(value=0.0, layout=Layout(width='auto'), style=ProgressStyle(bar_color='black'))"
      ]
     },
     "metadata": {},
     "output_type": "display_data"
    },
    {
     "name": "stdout",
     "output_type": "stream",
     "text": [
      "已生成因子文件: ./factors/Improved_Early_Order_Size_Ratio_3/20250606.parquet\n"
     ]
    },
    {
     "data": {
      "application/vnd.jupyter.widget-view+json": {
       "model_id": "c94ad4b69bab44b2b414389907cb2db1",
       "version_major": 2,
       "version_minor": 0
      },
      "text/plain": [
       "FloatProgress(value=0.0, layout=Layout(width='auto'), style=ProgressStyle(bar_color='black'))"
      ]
     },
     "metadata": {},
     "output_type": "display_data"
    },
    {
     "name": "stdout",
     "output_type": "stream",
     "text": [
      "已生成因子文件: ./factors/Improved_Early_Order_Size_Ratio_3/20250627.parquet\n",
      "跳过日期 20250628: 原始数据文件不存在\n"
     ]
    },
    {
     "data": {
      "application/vnd.jupyter.widget-view+json": {
       "model_id": "48e5f2a9081743659a092b724b878a0c",
       "version_major": 2,
       "version_minor": 0
      },
      "text/plain": [
       "FloatProgress(value=0.0, layout=Layout(width='auto'), style=ProgressStyle(bar_color='black'))"
      ]
     },
     "metadata": {},
     "output_type": "display_data"
    },
    {
     "data": {
      "application/vnd.jupyter.widget-view+json": {
       "model_id": "96c0e41282bf4e5fb1b0dfc278e19c46",
       "version_major": 2,
       "version_minor": 0
      },
      "text/plain": [
       "FloatProgress(value=0.0, layout=Layout(width='auto'), style=ProgressStyle(bar_color='black'))"
      ]
     },
     "metadata": {},
     "output_type": "display_data"
    },
    {
     "data": {
      "application/vnd.jupyter.widget-view+json": {
       "model_id": "1e963bb8b09b4e4993c79d24de111644",
       "version_major": 2,
       "version_minor": 0
      },
      "text/plain": [
       "FloatProgress(value=0.0, layout=Layout(width='auto'), style=ProgressStyle(bar_color='black'))"
      ]
     },
     "metadata": {},
     "output_type": "display_data"
    },
    {
     "name": "stdout",
     "output_type": "stream",
     "text": [
      "已生成因子文件: ./factors/Improved_Early_Order_Size_Ratio_3/20250620.parquet\n"
     ]
    },
    {
     "data": {
      "application/vnd.jupyter.widget-view+json": {
       "model_id": "40fbfba8bda74262bd8fa161d511ad9b",
       "version_major": 2,
       "version_minor": 0
      },
      "text/plain": [
       "FloatProgress(value=0.0, layout=Layout(width='auto'), style=ProgressStyle(bar_color='black'))"
      ]
     },
     "metadata": {},
     "output_type": "display_data"
    },
    {
     "name": "stdout",
     "output_type": "stream",
     "text": [
      "已生成因子文件: ./factors/Improved_Early_Order_Size_Ratio_3/20250612.parquet\n",
      "已生成因子文件: ./factors/Improved_Early_Order_Size_Ratio_3/20250610.parquet\n",
      "已生成因子文件: ./factors/Improved_Early_Order_Size_Ratio_3/20250604.parquet已生成因子文件: ./factors/Improved_Early_Order_Size_Ratio_3/20250618.parquet\n",
      "\n",
      "已生成因子文件: ./factors/Improved_Early_Order_Size_Ratio_3/20250630.parquet\n",
      "已生成因子文件: ./factors/Improved_Early_Order_Size_Ratio_3/20250626.parquet\n",
      "\n",
      "处理完成:\n",
      "成功处理 29 个日期\n",
      "跳过 13 个日期\n",
      "所有因子文件已生成在目录: ./factors/Improved_Early_Order_Size_Ratio_3\n",
      "在目录 ./factors/Improved_Early_Order_Size_Ratio_3 中找到 2193 个Parquet文件\n",
      "\n",
      "处理因子: early_930_1000_avg_order_volume_ratio\n",
      "\n",
      "early_930_1000_avg_order_volume_ratio因子覆盖率统计: 平均=1.00, 最小=0.99\n",
      "\n",
      "处理因子: early_1000_1030_avg_order_volume_ratio\n",
      "\n",
      "early_1000_1030_avg_order_volume_ratio因子覆盖率统计: 平均=1.00, 最小=0.99\n",
      "\n",
      "处理因子: early_930_1030_avg_order_volume_ratio\n",
      "\n",
      "early_930_1030_avg_order_volume_ratio因子覆盖率统计: 平均=1.00, 最小=0.99\n",
      "\n",
      "处理因子: early_930_1000_net_order_volume_ratio\n",
      "\n",
      "early_930_1000_net_order_volume_ratio因子覆盖率统计: 平均=1.00, 最小=0.99\n",
      "\n",
      "处理因子: early_1000_1030_net_order_volume_ratio\n",
      "\n",
      "early_1000_1030_net_order_volume_ratio因子覆盖率统计: 平均=1.00, 最小=0.99\n",
      "\n",
      "处理因子: early_930_1030_net_order_volume_ratio\n",
      "\n",
      "early_930_1030_net_order_volume_ratio因子覆盖率统计: 平均=1.00, 最小=0.99\n",
      "\n",
      "处理因子: early_930_1000_sum_order_volume_ratio\n",
      "\n",
      "early_930_1000_sum_order_volume_ratio因子覆盖率统计: 平均=1.00, 最小=0.99\n",
      "\n",
      "处理因子: early_1000_1030_sum_order_volume_ratio\n",
      "\n",
      "early_1000_1030_sum_order_volume_ratio因子覆盖率统计: 平均=1.00, 最小=0.99\n",
      "\n",
      "处理因子: early_930_1030_sum_order_volume_ratio\n",
      "\n",
      "early_930_1030_sum_order_volume_ratio因子覆盖率统计: 平均=1.00, 最小=0.99\n",
      "共计 148742 条记录\n",
      "\n",
      "数据预览:\n",
      "        date security_code  early_930_1000_avg_order_volume_ratio  \\\n",
      "0 2025-05-20        000001                                    NaN   \n",
      "1 2025-05-20        000002                                    NaN   \n",
      "2 2025-05-20        000004                                    NaN   \n",
      "3 2025-05-20        000006                                    NaN   \n",
      "4 2025-05-20        000007                                    NaN   \n",
      "\n",
      "   early_1000_1030_avg_order_volume_ratio  \\\n",
      "0                                     NaN   \n",
      "1                                     NaN   \n",
      "2                                     NaN   \n",
      "3                                     NaN   \n",
      "4                                     NaN   \n",
      "\n",
      "   early_930_1030_avg_order_volume_ratio  \\\n",
      "0                                    NaN   \n",
      "1                                    NaN   \n",
      "2                                    NaN   \n",
      "3                                    NaN   \n",
      "4                                    NaN   \n",
      "\n",
      "   early_930_1000_net_order_volume_ratio  \\\n",
      "0                                    NaN   \n",
      "1                                    NaN   \n",
      "2                                    NaN   \n",
      "3                                    NaN   \n",
      "4                                    NaN   \n",
      "\n",
      "   early_1000_1030_net_order_volume_ratio  \\\n",
      "0                                     NaN   \n",
      "1                                     NaN   \n",
      "2                                     NaN   \n",
      "3                                     NaN   \n",
      "4                                     NaN   \n",
      "\n",
      "   early_930_1030_net_order_volume_ratio  \\\n",
      "0                                    NaN   \n",
      "1                                    NaN   \n",
      "2                                    NaN   \n",
      "3                                    NaN   \n",
      "4                                    NaN   \n",
      "\n",
      "   early_930_1000_sum_order_volume_ratio  \\\n",
      "0                                    NaN   \n",
      "1                                    NaN   \n",
      "2                                    NaN   \n",
      "3                                    NaN   \n",
      "4                                    NaN   \n",
      "\n",
      "   early_1000_1030_sum_order_volume_ratio  \\\n",
      "0                                     NaN   \n",
      "1                                     NaN   \n",
      "2                                     NaN   \n",
      "3                                     NaN   \n",
      "4                                     NaN   \n",
      "\n",
      "   early_930_1030_sum_order_volume_ratio  \n",
      "0                                    NaN  \n",
      "1                                    NaN  \n",
      "2                                    NaN  \n",
      "3                                    NaN  \n",
      "4                                    NaN  \n"
     ]
    }
   ],
   "source": [
    "def main():\n",
    "\n",
    "    start_date = '2025-05-20'\n",
    "    end_date = '2025-06-30'\n",
    "\n",
    "\n",
    "    factor_name = \"Improved_Early_Order_Size_Ratio_3\"\n",
    "\n",
    "    base_factors = ['avg_order_volume_ratio', 'net_order_volume_ratio', 'sum_order_volume_ratio']\n",
    "    factor_dir = derive_daily_factor(start_date, end_date, factor_name, num_processes=10)\n",
    "\n",
    "    \n",
    "    print(f\"所有因子文件已生成在目录: {factor_dir}\")\n",
    "\n",
    "    result_df = calculate_rolling_20d_avg(base_factors, factor_dir, start_date, end_date, min_window=5)\n",
    "    \n",
    "    # 保存结果为CSV\n",
    "    output_path = \"/data/home/lexuanchen/Factors/Order/Signal/Improved_Early_Order_Size_Ratio_3\"\n",
    "    os.makedirs(output_path, exist_ok=True)\n",
    "\n",
    "    print(f\"共计 {len(result_df)} 条记录\")\n",
    "\n",
    "    print(\"\\n数据预览:\")\n",
    "    print(result_df.head())\n",
    "\n",
    "    \n",
    "    # 时间段前缀\n",
    "    time_intervals = ['early_930_1000', 'early_1000_1030', 'early_930_1030']\n",
    "    \n",
    "    # 为每个基础因子和时间段组合生成CSV\n",
    "    for base_factor in base_factors:\n",
    "        for interval in time_intervals:\n",
    "            factor = f\"{interval}_{base_factor}\"\n",
    "            if factor in result_df.columns:  # 确保列存在\n",
    "                output_file_path = f\"{output_path}/{factor}.csv\"\n",
    "                factor_df = result_df[['date', 'security_code', factor]]\n",
    "                factor_df.to_csv(output_file_path, index=False)\n",
    "            else:\n",
    "                print(f\"警告: 列 '{factor}' 在结果数据中不存在\")\n",
    "\n",
    "\n",
    "\n",
    "# 执行主函数\n",
    "if __name__ == \"__main__\":\n",
    "    main()\n"
   ]
  }
 ],
 "metadata": {
  "kernelspec": {
   "display_name": "test1",
   "language": "python",
   "name": "python3"
  },
  "language_info": {
   "codemirror_mode": {
    "name": "ipython",
    "version": 3
   },
   "file_extension": ".py",
   "mimetype": "text/x-python",
   "name": "python",
   "nbconvert_exporter": "python",
   "pygments_lexer": "ipython3",
   "version": "3.11.5"
  }
 },
 "nbformat": 4,
 "nbformat_minor": 2
}

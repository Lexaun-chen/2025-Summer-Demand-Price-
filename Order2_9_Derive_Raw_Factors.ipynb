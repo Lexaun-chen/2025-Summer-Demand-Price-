{
 "cells": [
  {
   "cell_type": "code",
   "execution_count": 1,
   "metadata": {},
   "outputs": [],
   "source": [
    "import connectorx as cx\n",
    "import pandas as pd\n",
    "import numpy as np\n",
    "import os\n",
    "import duckdb\n",
    "from datetime import datetime\n",
    "import glob\n",
    "import multiprocessing as mp\n",
    "from functools import partial\n",
    "import time"
   ]
  },
  {
   "cell_type": "code",
   "execution_count": 2,
   "metadata": {},
   "outputs": [],
   "source": [
    "# 买方价格偏离度因子\n",
    "bid_factor_lists = [\n",
    "    'bid_pre_open_915_920',\n",
    "    'bid_pre_open_920_925',\n",
    "    'bid_early_930_1000',\n",
    "    'bid_main_1000_1430',\n",
    "    'bid_late_1430_1457',\n",
    "    'bid_close_1457_1500'\n",
    "]\n",
    "\n",
    "# 卖方价格偏离度因子\n",
    "ask_factor_lists = [\n",
    "    'ask_pre_open_915_920',\n",
    "    'ask_pre_open_920_925',\n",
    "    'ask_early_930_1000',\n",
    "    'ask_main_1000_1430',\n",
    "    'ask_late_1430_1457',\n",
    "    'ask_close_1457_1500'\n",
    "]\n",
    "\n",
    "all_factors = bid_factor_lists + ask_factor_lists\n",
    "\n",
    "factor_name = \"six_itvs_price_divergence\"\n",
    "\n",
    "factor_dir = \"/data/home/lexuanchen/.conda/envs/Order_Improvement/factors/six_itvs_price_divergence\""
   ]
  },
  {
   "cell_type": "code",
   "execution_count": 4,
   "metadata": {},
   "outputs": [
    {
     "name": "stdout",
     "output_type": "stream",
     "text": [
      "在目录 /data/home/lexuanchen/.conda/envs/Order_Improvement/factors/six_itvs_price_divergence 中找到 854 个Parquet文件\n"
     ]
    },
    {
     "data": {
      "application/vnd.jupyter.widget-view+json": {
       "model_id": "dc46ea8a5c2e4fa69e05f6866bbb628e",
       "version_major": 2,
       "version_minor": 0
      },
      "text/plain": [
       "FloatProgress(value=0.0, layout=Layout(width='auto'), style=ProgressStyle(bar_color='black'))"
      ]
     },
     "metadata": {},
     "output_type": "display_data"
    }
   ],
   "source": [
    "parquet_pattern = os.path.join(factor_dir, \"*.parquet\")\n",
    "parquet_files = glob.glob(parquet_pattern)\n",
    "print(f\"在目录 {factor_dir} 中找到 {len(parquet_files)} 个Parquet文件\")\n",
    "\n",
    "\n",
    "conn = duckdb.connect(database=':memory:')\n",
    "all_factor_data = conn.execute(f\"\"\"\n",
    "    SELECT * FROM read_parquet('{parquet_pattern}')\n",
    "\"\"\").fetchdf()\n",
    "conn.close()\n",
    "\n",
    "\n",
    "all_factor_data['date'] = pd.to_datetime(all_factor_data['date'])\n",
    "\n",
    "all_factor_data = all_factor_data.sort_values(['date', 'security_code'])\n",
    "\n",
    "output_path = \"/data/home/lexuanchen/Factors/Order/Signal/Raw_Six_Times_Divergence\"\n",
    "os.makedirs(output_path, exist_ok=True)\n",
    "\n",
    "for factor in all_factors:\n",
    "\n",
    "    factor_df = all_factor_data[['date','security_code', factor]]\n",
    "    result_df = factor_df.dropna(subset=[factor])\n",
    "\n",
    "    output_file_path = f\"{output_path}/{factor}.csv\"\n",
    "\n",
    "    result_df.to_csv(output_file_path,index=False)\n"
   ]
  }
 ],
 "metadata": {
  "kernelspec": {
   "display_name": "test1",
   "language": "python",
   "name": "python3"
  },
  "language_info": {
   "codemirror_mode": {
    "name": "ipython",
    "version": 3
   },
   "file_extension": ".py",
   "mimetype": "text/x-python",
   "name": "python",
   "nbconvert_exporter": "python",
   "pygments_lexer": "ipython3",
   "version": "3.11.5"
  }
 },
 "nbformat": 4,
 "nbformat_minor": 2
}
